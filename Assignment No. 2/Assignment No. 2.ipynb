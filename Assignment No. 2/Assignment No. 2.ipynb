{
 "cells": [
  {
   "cell_type": "code",
   "execution_count": 18,
   "id": "2899ea6a",
   "metadata": {},
   "outputs": [],
   "source": [
    "import tensorflow as tf\n",
    "from tensorflow.keras.models import Sequential\n",
    "from tensorflow.keras.layers import Dense\n",
    "from tensorflow.keras.layers import Dropout, Flatten\n",
    "import matplotlib.pyplot as plt\n",
    "import seaborn as sns"
   ]
  },
  {
   "cell_type": "markdown",
   "id": "d037dc1c",
   "metadata": {},
   "source": [
    "### MNIST dataset"
   ]
  },
  {
   "cell_type": "code",
   "execution_count": 10,
   "id": "21dd8a73",
   "metadata": {},
   "outputs": [],
   "source": [
    "mnist = tf.keras.datasets.mnist\n",
    "(x_train, y_train) , (x_test, y_test) = mnist.load_data() # Data loading\n",
    "x_train, x_test = x_train/255.0 , x_test/255.0 #Normalizing the data"
   ]
  },
  {
   "cell_type": "code",
   "execution_count": 27,
   "id": "477523cb",
   "metadata": {},
   "outputs": [
    {
     "data": {
      "image/png": "[encoded data removed]",
      "text/plain": [
       "<Figure size 432x288 with 2 Axes>"
      ]
     },
     "metadata": {
      "needs_background": "light"
     },
     "output_type": "display_data"
    }
   ],
   "source": [
    "sns.heatmap(x_train[0])\n",
    "plt.show()"
   ]
  },
  {
   "cell_type": "markdown",
   "id": "847ff3a5",
   "metadata": {},
   "source": [
    "#### Prepearing the model"
   ]
  },
  {
   "cell_type": "code",
   "execution_count": 11,
   "id": "54506345",
   "metadata": {},
   "outputs": [],
   "source": [
    "model = Sequential([\n",
    "    Flatten(input_shape=(28,28)),\n",
    "    Dense(128, activation=\"relu\"),\n",
    "    Dropout(0.2),\n",
    "    Dense(10)\n",
    "])"
   ]
  },
  {
   "cell_type": "code",
   "execution_count": 12,
   "id": "c51d7ff9",
   "metadata": {},
   "outputs": [
    {
     "data": {
      "text/plain": [
       "array([[-0.40410277, -0.46030605, -0.6388068 ,  0.24000591,  0.32878405,\n",
       "         0.5329246 , -0.21563345,  0.71689916, -0.16056764,  0.03700624]],\n",
       "      dtype=float32)"
      ]
     },
     "execution_count": 12,
     "metadata": {},
     "output_type": "execute_result"
    }
   ],
   "source": [
    "predictions = model(x_train[:1]).numpy()\n",
    "predictions"
   ]
  },
  {
   "cell_type": "code",
   "execution_count": 13,
   "id": "44c56318",
   "metadata": {},
   "outputs": [
    {
     "data": {
      "text/plain": [
       "array([[0.06105226, 0.05771557, 0.04828043, 0.11626115, 0.12705462,\n",
       "        0.15582873, 0.0737145 , 0.18730384, 0.07788749, 0.09490147]],\n",
       "      dtype=float32)"
      ]
     },
     "execution_count": 13,
     "metadata": {},
     "output_type": "execute_result"
    }
   ],
   "source": [
    "tf.nn.softmax(predictions).numpy()"
   ]
  },
  {
   "cell_type": "code",
   "execution_count": 14,
   "id": "642dad4a",
   "metadata": {},
   "outputs": [],
   "source": [
    "loss_fn = tf.keras.losses.SparseCategoricalCrossentropy(from_logits=True)"
   ]
  },
  {
   "cell_type": "code",
   "execution_count": 15,
   "id": "6fbe6870",
   "metadata": {},
   "outputs": [],
   "source": [
    "model.compile(optimizer=\"adam\", loss = loss_fn, metrics=[\"accuracy\"])"
   ]
  },
  {
   "cell_type": "code",
   "execution_count": 16,
   "id": "6e83e363",
   "metadata": {},
   "outputs": [
    {
     "name": "stdout",
     "output_type": "stream",
     "text": [
      "Epoch 1/5\n",
      "1875/1875 [==============================] - 10s 5ms/step - loss: 0.2981 - accuracy: 0.9138\n",
      "Epoch 2/5\n",
      "1875/1875 [==============================] - 9s 5ms/step - loss: 0.1442 - accuracy: 0.9575\n",
      "Epoch 3/5\n",
      "1875/1875 [==============================] - 12s 6ms/step - loss: 0.1081 - accuracy: 0.9669\n",
      "Epoch 4/5\n",
      "1875/1875 [==============================] - 11s 6ms/step - loss: 0.0880 - accuracy: 0.9730\n",
      "Epoch 5/5\n",
      "1875/1875 [==============================] - 10s 5ms/step - loss: 0.0741 - accuracy: 0.9770\n"
     ]
    },
    {
     "data": {
      "text/plain": [
       "<keras.callbacks.History at 0x2bd9145b610>"
      ]
     },
     "execution_count": 16,
     "metadata": {},
     "output_type": "execute_result"
    }
   ],
   "source": [
    "model.fit(x_train, y_train, epochs=5)"
   ]
  },
  {
   "cell_type": "code",
   "execution_count": 17,
   "id": "2dd9619a",
   "metadata": {
    "scrolled": true
   },
   "outputs": [
    {
     "name": "stdout",
     "output_type": "stream",
     "text": [
      "313/313 - 1s - loss: 0.0867 - accuracy: 0.9749 - 787ms/epoch - 3ms/step\n"
     ]
    },
    {
     "data": {
      "text/plain": [
       "[0.08666389435529709, 0.9749000072479248]"
      ]
     },
     "execution_count": 17,
     "metadata": {},
     "output_type": "execute_result"
    }
   ],
   "source": [
    "model.evaluate(x_test, y_test, verbose=2)"
   ]
  },
  {
   "cell_type": "markdown",
   "id": "df50743b",
   "metadata": {},
   "source": [
    "#### Validation of Model"
   ]
  },
  {
   "cell_type": "code",
   "execution_count": 21,
   "id": "1f25e8e6",
   "metadata": {},
   "outputs": [
    {
     "name": "stdout",
     "output_type": "stream",
     "text": [
      "Epoch 1/5\n",
      "300/300 [==============================] - 1s 4ms/step - loss: 0.0533 - accuracy: 0.9837 - val_loss: 0.0669 - val_accuracy: 0.9808\n",
      "Epoch 2/5\n",
      "300/300 [==============================] - 2s 5ms/step - loss: 0.0467 - accuracy: 0.9856 - val_loss: 0.0664 - val_accuracy: 0.9805\n",
      "Epoch 3/5\n",
      "300/300 [==============================] - 2s 6ms/step - loss: 0.0447 - accuracy: 0.9862 - val_loss: 0.0672 - val_accuracy: 0.9809\n",
      "Epoch 4/5\n",
      "300/300 [==============================] - 2s 5ms/step - loss: 0.0436 - accuracy: 0.9867 - val_loss: 0.0638 - val_accuracy: 0.9812\n",
      "Epoch 5/5\n",
      "300/300 [==============================] - 2s 5ms/step - loss: 0.0398 - accuracy: 0.9878 - val_loss: 0.0656 - val_accuracy: 0.9811\n"
     ]
    }
   ],
   "source": [
    "val = model.fit(x_train, y_train, epochs=5, validation_data=(x_test, y_test), batch_size=200)"
   ]
  },
  {
   "cell_type": "code",
   "execution_count": 24,
   "id": "5d785f96",
   "metadata": {},
   "outputs": [
    {
     "data": {
      "image/png": "[encoded data removed]",
      "text/plain": [
       "<Figure size 432x288 with 1 Axes>"
      ]
     },
     "metadata": {
      "needs_background": "light"
     },
     "output_type": "display_data"
    }
   ],
   "source": [
    "plt.title(\"Model Accuracy\")\n",
    "plt.ylabel(\"Accuracy\")\n",
    "plt.xlabel(\"epoch\")\n",
    "plt.plot(val.history[\"accuracy\"])\n",
    "plt.plot(val.history[\"val_accuracy\"])\n",
    "plt.legend([\"train\",\"val\"])\n",
    "plt.show()"
   ]
  }
 ],
 "metadata": {
  "kernelspec": {
   "display_name": "Python 3 (ipykernel)",
   "language": "python",
   "name": "python3"
  },
  "language_info": {
   "codemirror_mode": {
    "name": "ipython",
    "version": 3
   },
   "file_extension": ".py",
   "mimetype": "text/x-python",
   "name": "python",
   "nbconvert_exporter": "python",
   "pygments_lexer": "ipython3",
   "version": "3.9.7"
  }
 },
 "nbformat": 4,
 "nbformat_minor": 5
}
